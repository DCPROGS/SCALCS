{
 "cells": [
  {
   "cell_type": "markdown",
   "metadata": {},
   "source": [
    "# Calculate series of Popen curves for $\\alpha_1$ GlyR: Flip mechanism (WT from Burzomato 2004)"
   ]
  },
  {
   "cell_type": "code",
   "execution_count": 1,
   "metadata": {
    "collapsed": false
   },
   "outputs": [],
   "source": [
    "%matplotlib inline\n",
    "import matplotlib.pyplot as plt\n",
    "import math\n",
    "import numpy as np\n",
    "import yaml\n",
    "from scalcs import popen\n",
    "from scalcs import scplotlib as scpl\n",
    "from scalcs import cjumps"
   ]
  },
  {
   "cell_type": "code",
   "execution_count": 2,
   "metadata": {
    "collapsed": false
   },
   "outputs": [],
   "source": [
    "def ratio_maxPopen(mec1, mec2, tres):\n",
    "    emaxPopen1 = popen.maxPopen(mec1, tres)\n",
    "    emaxPopen2 = popen.maxPopen(mec2, tres)\n",
    "    return emaxPopen1 / emaxPopen2 "
   ]
  },
  {
   "cell_type": "markdown",
   "metadata": {},
   "source": [
    "#### Original rate constants for rat WT  $\\alpha_1$ GlyR taken from Burzomato 2004"
   ]
  },
  {
   "cell_type": "code",
   "execution_count": 3,
   "metadata": {
    "collapsed": false
   },
   "outputs": [
    {
     "name": "stdout",
     "output_type": "stream",
     "text": [
      "\n",
      "class dcpyps.Mechanism\n",
      "Values of unit rates [1/sec]:\n",
      "0\tFrom AF*  \tto AF    \talpha1       \t4100.0\n",
      "1\tFrom AF  \tto AF*    \tbeta1        \t1500.0\n",
      "2\tFrom A2F*  \tto A2F    \talpha2       \t1400.0\n",
      "3\tFrom A2F  \tto A2F*    \tbeta2        \t18000.0\n",
      "4\tFrom A3F*  \tto A3F    \talpha3       \t700.0\n",
      "5\tFrom A3F  \tto A3F*    \tbeta3        \t28000.0\n",
      "6\tFrom A3F  \tto A3R    \tgama3        \t1600.0\n",
      "7\tFrom A3R  \tto A3F    \tdelta3       \t13000.0\n",
      "8\tFrom A3F  \tto A2F    \t3kf(-3)      \t4500.0\n",
      "9\tFrom A2F  \tto A3F    \tkf(+3)       \t11000000.0\n",
      "10\tFrom A2F  \tto A2R    \tgama2        \t11500.0\n",
      "11\tFrom A2R  \tto A2F    \tdelta2       \t15500.0\n",
      "12\tFrom A2F  \tto AF    \t2kf(-2)      \t3000.0\n",
      "13\tFrom AF  \tto A2F    \t2kf(+2)      \t22000000.0\n",
      "14\tFrom AF  \tto AR    \tgama1        \t500.0\n",
      "15\tFrom AR  \tto AF    \tdelta1       \t100.0\n",
      "16\tFrom A3R  \tto A2R    \t3k(-3)       \t600.0\n",
      "17\tFrom A2R  \tto A3R    \tk(+3)        \t230000.0\n",
      "18\tFrom A2R  \tto AR    \t2k(-2)       \t400.0\n",
      "19\tFrom AR  \tto A2R    \t2k(+2)       \t460000.0\n",
      "20\tFrom AR  \tto R    \tk(-1)        \t600.0\n",
      "21\tFrom R  \tto AR    \t3k(+1)       \t690000.0\n",
      "\n",
      "Conductance of state AF* (pS)  =      40\n",
      "\n",
      "Conductance of state A2F* (pS)  =      40\n",
      "\n",
      "Conductance of state A3F* (pS)  =      40\n",
      "\n",
      "Number of open states = 3\n",
      "Number of short-lived shut states (within burst) = 6\n",
      "Number of long-lived shut states (between bursts) = 1\n",
      "Number of desensitised states = 0\n",
      "\n",
      "Number of cycles = 2\n",
      "Cycle 0 is formed of states: A3R  A3F  A2F  A2R  \n",
      "\tforward product = 1.547325000e+17\n",
      "\tbackward product = 1.636800000e+17\n",
      "Cycle 1 is formed of states: AF  A2F  A2R  AR  \n",
      "\tforward product = 1.012000000e+16\n",
      "\tbackward product = 1.069500000e+16"
     ]
    }
   ],
   "source": [
    "tres = 30e-6\n",
    "filename = \"Flip_a1GlyRWT_Burz2004.yaml\"\n",
    "stream = open(filename, 'r')\n",
    "mec0 = yaml.load(stream)\n",
    "stream.close()\n",
    "mec0.printout()\n",
    "stream = open(filename, 'r')\n",
    "mec = yaml.load(stream)"
   ]
  },
  {
   "cell_type": "code",
   "execution_count": 4,
   "metadata": {
    "collapsed": false
   },
   "outputs": [],
   "source": [
    "c0, pe0, pi0 = scpl.Popen(mec0, tres)"
   ]
  },
  {
   "cell_type": "markdown",
   "metadata": {},
   "source": [
    "##### Effect of changing $\\delta_3$ only"
   ]
  },
  {
   "cell_type": "code",
   "execution_count": 5,
   "metadata": {
    "collapsed": false
   },
   "outputs": [
    {
     "name": "stdout",
     "output_type": "stream",
     "text": [
      "Original mec:  maxPopen = 0.96095;  EC50 = 155.97 microM;  nH = 2.2392\n",
      "Modified mec:  maxPopen = 0.94043;  EC50 = 157.66 microM;  nH = 2.2295\n",
      "EC50 ratio:  1.0108173034289274\n",
      "Modified mec:  maxPopen = 0.90126;  EC50 = 158.78 microM;  nH = 2.2264\n",
      "EC50 ratio:  1.0179888462245026\n",
      "Modified mec:  maxPopen = 0.89607;  EC50 = 159.87 microM;  nH = 2.2113\n",
      "EC50 ratio:  1.0249816223304788\n"
     ]
    },
    {
     "data": {
      "image/png": "[encoded data removed]",
      "text/plain": [
       "<matplotlib.figure.Figure at 0x7d55160>"
      ]
     },
     "metadata": {},
     "output_type": "display_data"
    }
   ],
   "source": [
    "fig = plt.figure(figsize=(6,3))\n",
    "ax = fig.add_subplot(111)\n",
    "ax.semilogx(c0, pe0)\n",
    "print('Original mec: ', popen.print_pars(mec0, tres))\n",
    "for newrate in [1300, 130, 13]:\n",
    "    mec.Rates[7].rateconstants = newrate\n",
    "    c, pe, pi = scpl.Popen(mec, tres)\n",
    "    ax.semilogx(c, pe, 'r-')\n",
    "    print('Modified mec: ', popen.print_pars(mec, tres))\n",
    "    print('EC50 ratio: ', popen.EC50(mec, tres) / popen.EC50(mec0, tres))\n",
    "    #print('maxPopen ratio: ', ratio_maxPopen(mec, mec0, tres))"
   ]
  },
  {
   "cell_type": "markdown",
   "metadata": {},
   "source": [
    "##### Effect of changing $\\delta_2$ only"
   ]
  },
  {
   "cell_type": "code",
   "execution_count": 6,
   "metadata": {
    "collapsed": false
   },
   "outputs": [
    {
     "name": "stdout",
     "output_type": "stream",
     "text": [
      "Original mec:  maxPopen = 0.96095;  EC50 = 155.97 microM;  nH = 2.2392\n",
      "Modified mec:  maxPopen = 0.80781;  EC50 = 340.63 microM;  nH = 1.8899\n",
      "EC50 ratio:  2.183880441548357\n",
      "Modified mec:  maxPopen = 0.462;  EC50 = 616.98 microM;  nH = 1.8232\n",
      "EC50 ratio:  3.955707969597024\n",
      "Modified mec:  maxPopen = 0.24724;  EC50 = 599.03 microM;  nH = 1.6123\n",
      "EC50 ratio:  3.840590995128968\n"
     ]
    },
    {
     "data": {
      "image/png": "[encoded data removed]",
      "text/plain": [
       "<matplotlib.figure.Figure at 0x7d55d30>"
      ]
     },
     "metadata": {},
     "output_type": "display_data"
    }
   ],
   "source": [
    "fig = plt.figure(figsize=(6,3))\n",
    "ax = fig.add_subplot(111)\n",
    "ax.semilogx(c0, pe0)\n",
    "print('Original mec: ', popen.print_pars(mec0, tres))\n",
    "for newrate in [1550, 155, 15.5]:\n",
    "    mec.Rates[11].rateconstants = newrate\n",
    "    c, pe, pi = scpl.Popen(mec, tres)\n",
    "    ax.semilogx(c, pe, 'r-')\n",
    "    print('Modified mec: ', popen.print_pars(mec, tres))\n",
    "    print('EC50 ratio: ', popen.EC50(mec, tres) / popen.EC50(mec0, tres))\n",
    "    #print('maxPopen ratio: ', ratio_maxPopen(mec, mec0, tres))"
   ]
  },
  {
   "cell_type": "markdown",
   "metadata": {},
   "source": [
    "##### Effect of changing $\\delta_1$, $\\delta_2$ and $\\delta_3$ by same factor"
   ]
  },
  {
   "cell_type": "code",
   "execution_count": 7,
   "metadata": {
    "collapsed": false
   },
   "outputs": [
    {
     "name": "stdout",
     "output_type": "stream",
     "text": [
      "Original mec:  maxPopen = 0.96095;  EC50 = 155.97 microM;  nH = 2.2392\n",
      "Modified mec:  maxPopen = 0.93652;  EC50 = 408.29 microM;  nH = 2.1867\n",
      "EC50 ratio:  2.6177162504112865\n",
      "Modified mec:  maxPopen = 0.74715;  EC50 = 1150.4 microM;  nH = 1.724\n",
      "EC50 ratio:  7.375463304078516\n",
      "Modified mec:  maxPopen = 0.24724;  EC50 = 2491.5 microM;  nH = 1.373\n",
      "EC50 ratio:  15.973801352874712\n"
     ]
    },
    {
     "data": {
      "image/png": "[encoded data removed]",
      "text/plain": [
       "<matplotlib.figure.Figure at 0x7dc62e8>"
      ]
     },
     "metadata": {},
     "output_type": "display_data"
    }
   ],
   "source": [
    "fig = plt.figure(figsize=(6,3))\n",
    "ax = fig.add_subplot(111)\n",
    "ax.semilogx(c0, pe0)\n",
    "print('Original mec: ', popen.print_pars(mec0, tres))\n",
    "for nr1, nr2, nr3 in zip([1300, 130, 13], [1550, 155, 15.5], [10, 1, 0.1]):\n",
    "    mec.Rates[7].rateconstants = nr1 # delta3\n",
    "    mec.Rates[11].rateconstants = nr2 # delta2\n",
    "    mec.Rates[15].rateconstants = nr3 # delta1\n",
    "    c, pe, pi = scpl.Popen(mec, tres)\n",
    "    ax.semilogx(c, pe, 'r-')\n",
    "    print('Modified mec: ', popen.print_pars(mec, tres))\n",
    "    print('EC50 ratio: ', popen.EC50(mec, tres) / popen.EC50(mec0, tres))"
   ]
  },
  {
   "cell_type": "markdown",
   "metadata": {},
   "source": [
    "### Plot macroscopic response to an exponentially decaying concentration jump "
   ]
  },
  {
   "cell_type": "code",
   "execution_count": 8,
   "metadata": {
    "collapsed": true
   },
   "outputs": [],
   "source": [
    "# Reduce all, delta3, delta2 and delta1, 100 times\n",
    "mec.Rates[7].rateconstants = 133 # delta3\n",
    "mec.Rates[11].rateconstants = 155 # delta2\n",
    "mec.Rates[15].rateconstants = 1 # delta1"
   ]
  },
  {
   "cell_type": "code",
   "execution_count": 9,
   "metadata": {
    "collapsed": false
   },
   "outputs": [],
   "source": [
    "cmax = 3e-3 # max concentrations\n",
    "cb = 0.0 # basal concentrations\n",
    "prepulse = 5e-3 # time before pulse starts\n",
    "tdec = 2.5e-3 # decay time constant\n",
    "cjargs = (cmax, cb, prepulse, tdec)\n",
    "\n",
    "cjlen = 0.05 # Record length\n",
    "cjstep = 5e-6 # Sampling step\n",
    "cjfunc = cjumps.pulse_instexp\n",
    "\n",
    "t, c, Popen, P  = cjumps.solve_jump(mec, cjlen, cjstep, cjfunc, cjargs)\n",
    "maxP, maxC = max(Popen), max(c)\n",
    "c1 = (c / maxC) * 0.2 * maxP + 1.02 * maxP"
   ]
  },
  {
   "cell_type": "code",
   "execution_count": 10,
   "metadata": {
    "collapsed": false
   },
   "outputs": [
    {
     "name": "stdout",
     "output_type": "stream",
     "text": [
      "Peak Popen =  0.128636737731\n"
     ]
    },
    {
     "data": {
      "image/png": "[encoded data removed]",
      "text/plain": [
       "<matplotlib.figure.Figure at 0x7dee588>"
      ]
     },
     "metadata": {},
     "output_type": "display_data"
    }
   ],
   "source": [
    "fig, ax  = plt.subplots(1,1, figsize=(5,3))\n",
    "ax.plot(t * 1000, Popen,'b-', t * 1000, c1, 'g-')\n",
    "print(\"Peak Popen = \", max(Popen))"
   ]
  },
  {
   "cell_type": "code",
   "execution_count": 11,
   "metadata": {
    "collapsed": true
   },
   "outputs": [],
   "source": [
    "#fout = open('trace.txt','w')\n",
    "#for i in range(t.shape[0]):\n",
    "#    fout.write('{0:.6e}\\t{1:.6e}\\n'.format(t[i], Popen[i]))\n",
    "#fout.close()"
   ]
  },
  {
   "cell_type": "markdown",
   "metadata": {
    "collapsed": true
   },
   "source": [
    "#### Effect of changing $\\gamma_3$ "
   ]
  },
  {
   "cell_type": "code",
   "execution_count": 12,
   "metadata": {
    "collapsed": false
   },
   "outputs": [
    {
     "name": "stdout",
     "output_type": "stream",
     "text": [
      "Original mec:  maxPopen = 0.96095;  EC50 = 155.97 microM;  nH = 2.2392\n",
      "Modified mec:  maxPopen = 0.93758;  EC50 = 408.29 microM;  nH = 2.1865\n",
      "EC50 ratio:  2.6177162504112865\n",
      "Modified mec:  maxPopen = 0.96148;  EC50 = 154.09 microM;  nH = 2.2307\n",
      "EC50 ratio:  0.9879154078549848\n",
      "Modified mec:  maxPopen = 0.96394;  EC50 = 58.413 microM;  nH = 1.9668\n",
      "EC50 ratio:  0.3745053905697899\n"
     ]
    },
    {
     "data": {
      "image/png": "[encoded data removed]",
      "text/plain": [
       "<matplotlib.figure.Figure at 0x9a65940>"
      ]
     },
     "metadata": {},
     "output_type": "display_data"
    }
   ],
   "source": [
    "fig = plt.figure(figsize=(6,3))\n",
    "ax = fig.add_subplot(111)\n",
    "ax.semilogx(c0, pe0)\n",
    "print('Original mec: ', popen.print_pars(mec0, tres))\n",
    "for nr1, nr2, nr3 in zip([160, 16, 1.6], [1150, 115, 11.5], [50, 5, 0.5]):\n",
    "    mec.Rates[6].rateconstants = nr1 # gamma3\n",
    "    mec.Rates[10].rateconstants = nr2 # gamma2\n",
    "    mec.Rates[14].rateconstants = nr3 # gamma1\n",
    "    c, pe, pi = scpl.Popen(mec, tres)\n",
    "    ax.semilogx(c, pe, 'r-')\n",
    "    print('Modified mec: ', popen.print_pars(mec, tres))\n",
    "    print('EC50 ratio: ', popen.EC50(mec, tres) / popen.EC50(mec0, tres))"
   ]
  },
  {
   "cell_type": "markdown",
   "metadata": {},
   "source": [
    "#### Changing $\\beta$"
   ]
  },
  {
   "cell_type": "code",
   "execution_count": 13,
   "metadata": {
    "collapsed": false
   },
   "outputs": [
    {
     "name": "stdout",
     "output_type": "stream",
     "text": [
      "Original mec:  maxPopen = 0.96095;  EC50 = 155.97 microM;  nH = 2.2392\n",
      "Modified mec:  maxPopen = 0.78155;  EC50 = 167.64 microM;  nH = 1.8393\n",
      "EC50 ratio:  1.0747922560995244\n",
      "Modified mec:  maxPopen = 0.28814;  EC50 = 356.14 microM;  nH = 1.5457\n",
      "EC50 ratio:  2.283336437402545\n",
      "Modified mec:  maxPopen = 0.039453;  EC50 = 438.09 microM;  nH = 1.4588\n",
      "EC50 ratio:  2.808790429273424\n"
     ]
    },
    {
     "data": {
      "image/png": "[encoded data removed]",
      "text/plain": [
       "<matplotlib.figure.Figure at 0x7df3320>"
      ]
     },
     "metadata": {},
     "output_type": "display_data"
    }
   ],
   "source": [
    "fig = plt.figure(figsize=(6,3))\n",
    "ax = fig.add_subplot(111)\n",
    "ax.semilogx(c0, pe0)\n",
    "print('Original mec: ', popen.print_pars(mec0, tres))\n",
    "for nr1, nr2, nr3 in zip([2800, 280, 28], [1800, 180, 18], [150, 15, 1.5]):\n",
    "    mec.Rates[5].rateconstants = nr1 # beta3\n",
    "    mec.Rates[3].rateconstants = nr2 # beta2\n",
    "    mec.Rates[1].rateconstants = nr3 # beta1\n",
    "    c, pe, pi = scpl.Popen(mec, tres)\n",
    "    ax.semilogx(c, pe, 'r-')\n",
    "    print('Modified mec: ', popen.print_pars(mec, tres))\n",
    "    print('EC50 ratio: ', popen.EC50(mec, tres) / popen.EC50(mec0, tres))"
   ]
  },
  {
   "cell_type": "code",
   "execution_count": null,
   "metadata": {
    "collapsed": true
   },
   "outputs": [],
   "source": []
  }
 ],
 "metadata": {
  "anaconda-cloud": {},
  "kernelspec": {
   "display_name": "Python [Root]",
   "language": "python",
   "name": "Python [Root]"
  },
  "language_info": {
   "codemirror_mode": {
    "name": "ipython",
    "version": 3
   },
   "file_extension": ".py",
   "mimetype": "text/x-python",
   "name": "python",
   "nbconvert_exporter": "python",
   "pygments_lexer": "ipython3",
   "version": "3.5.1"
  }
 },
 "nbformat": 4,
 "nbformat_minor": 0
}
