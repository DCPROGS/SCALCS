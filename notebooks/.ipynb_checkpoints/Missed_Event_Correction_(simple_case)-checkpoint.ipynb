{
 "cells": [
  {
   "cell_type": "markdown",
   "metadata": {},
   "source": [
    "# Missed events in the simple two state case\n",
    "(Blue Book, 1995, page 455)"
   ]
  },
  {
   "cell_type": "markdown",
   "metadata": {},
   "source": [
    "###### Some general notebook setting"
   ]
  },
  {
   "cell_type": "code",
   "execution_count": 1,
   "metadata": {},
   "outputs": [],
   "source": [
    "%matplotlib inline\n",
    "import matplotlib.pyplot as plt"
   ]
  },
  {
   "cell_type": "code",
   "execution_count": 2,
   "metadata": {},
   "outputs": [],
   "source": [
    "from math import exp\n",
    "import numpy as np"
   ]
  },
  {
   "cell_type": "markdown",
   "metadata": {},
   "source": [
    "### The Two-State Case"
   ]
  },
  {
   "cell_type": "markdown",
   "metadata": {},
   "source": [
    "Asumption: the true open times and shut times follow simple exponential distribution. \n",
    "\n",
    "Then we have $P(\\textrm{shut time} > \\tau_s) = e^{-\\tau_s/m_s} \\tag{Eq 117}$\n",
    "\n",
    "and $\\textrm{Mean number of openings per apparent opening} = 1 / e^{-\\tau_s/m_s} = e^{\\tau_s/m_s} \\tag{Eq 118}$\n",
    "\n",
    "where $\\tau_o$ and $\\tau_s$ - resolution for openings and for shuttings, respectively;  $m_o$ and $m_s$ - the observed (apparent) mean open and shut times, respectively."
   ]
  },
  {
   "cell_type": "markdown",
   "metadata": {},
   "source": [
    "For an exponential distribution\n",
    "\n",
    "$\\textrm{Mean length of shuttings longer than } \\tau_s = \\tau_s + m_s \\tag{Eq 119}$\n",
    "\n",
    "then\n",
    "\n",
    "$\\textrm{Mean of shuttings less than } \\tau_s = \\lbrack m_s - (\\tau_s + m_s)e^{-\\tau_s/m_s}\\rbrack / (1 - e^{-\\tau_s/m_s}) \\tag{Eq 119}$\n",
    "\n",
    "It can be derived (derivation is in the book), that the observed (apparent) mean open, $^{e}m_o$, and shut, $^{e}m_s$, times,\n",
    "\n",
    "$^{e}m_o = \\tau_o + (m_o + m_s)e^{\\tau_s/m_s} - (\\tau_s + m_s) \\tag{Eq 121}$\n",
    "\n",
    "and\n",
    "\n",
    "$^{e}m_s = \\tau_s + (m_o + m_s)e^{\\tau_o/m_o} - (\\tau_o + m_o) \\tag{Eq 122}$                       "
   ]
  },
  {
   "cell_type": "markdown",
   "metadata": {},
   "source": [
    "The values of $^{e}m_o$ and $^{e}m_s$ can be estimated from the data by averaging the observed open and shut times; $\\tau_o$ and $\\tau_s$ are known, so the equations 121 and 122 are a pair of nonlinear simultaneous equations that can be solved numerically from the true means $m_o$ and $m_s$."
   ]
  },
  {
   "cell_type": "markdown",
   "metadata": {},
   "source": [
    "### Solving equations in Python"
   ]
  },
  {
   "cell_type": "markdown",
   "metadata": {},
   "source": [
    "Define resolution for openings, $\\tau_o$, resolution for shuttings, $\\tau_s$, and the observed (apparent) mean open, $^{e}m_o$, and shut, $^{e}m_s$, times:"
   ]
  },
  {
   "cell_type": "code",
   "execution_count": 3,
   "metadata": {},
   "outputs": [],
   "source": [
    "tro, trs = 0.2, 0.2\n",
    "emo, ems = 0.6, 2.0"
   ]
  },
  {
   "cell_type": "code",
   "execution_count": 4,
   "metadata": {},
   "outputs": [],
   "source": [
    "#Write equations to solve\n",
    "def equations(p, tro, trs, emo, ems):\n",
    "    mo, ms = p\n",
    "    return (tro + (mo + ms) * exp(trs / ms) - (ms + trs) - emo, \n",
    "            trs + (mo + ms) * exp(tro / mo) - (mo + tro) - ems)"
   ]
  },
  {
   "cell_type": "code",
   "execution_count": 5,
   "metadata": {},
   "outputs": [
    {
     "name": "stdout",
     "output_type": "stream",
     "text": [
      "corrected mean open time =  0.29898862734814563 \n",
      "corrected mean shut time =  0.8786927076607866\n"
     ]
    }
   ],
   "source": [
    "# Use SciPy non-linear equation solver\n",
    "from scipy.optimize import fsolve\n",
    "mo, ms =  fsolve(equations, (0.1, 1), args=(tro, trs, emo, ems))\n",
    "print ('corrected mean open time = ', mo, \n",
    "       '\\ncorrected mean shut time = ', ms)\n",
    "# let's save these values for later"
   ]
  },
  {
   "cell_type": "markdown",
   "metadata": {},
   "source": [
    "### Equations have two solutions"
   ]
  },
  {
   "cell_type": "markdown",
   "metadata": {},
   "source": [
    "Note that different starting guess gives a different solution."
   ]
  },
  {
   "cell_type": "code",
   "execution_count": 6,
   "metadata": {},
   "outputs": [
    {
     "name": "stdout",
     "output_type": "stream",
     "text": [
      "corrected mean open time =  0.10633748090179759 \n",
      "corrected mean shut time =  0.2148103487650787\n"
     ]
    }
   ],
   "source": [
    "mo, ms =  fsolve(equations, (0.01, 0.01), args=(tro, trs, emo, ems))\n",
    "print ('corrected mean open time = ', mo, \n",
    "       '\\ncorrected mean shut time = ', ms)\n",
    "# let's save these values for later"
   ]
  },
  {
   "cell_type": "markdown",
   "metadata": {},
   "source": [
    "It turns out that these equations usually have two pairs, 'slow' and 'fast', of solutions.\n",
    "\n",
    "Let's see what that means graphically. Use the equations 121 and 122 to express true mean times.\n",
    "\n",
    "$m_o$ as function of $m_s$:\n",
    "\n",
    "$m_o(m_s)= (^em_o + m_s - \\tau_o + \\tau_s) e^{-\\tau_s/m_s}-m_s$\n",
    "\n",
    "and $m_s$ as function of $m_o$:\n",
    "\n",
    "$m_s(m_o)= (^em_s + m_o - \\tau_s + \\tau_o) e^{-\\tau_o/m_o}-m_o$"
   ]
  },
  {
   "cell_type": "code",
   "execution_count": 7,
   "metadata": {},
   "outputs": [],
   "source": [
    "# In Python these functions:\n",
    "def fmo1(ms, tro, trs, emo, ems):\n",
    "    return (emo + ms - tro + trs) * exp(-trs / ms) - ms\n",
    "def fms1(mo, tro, trs, emo, ems):\n",
    "    return (ems + mo - trs + tro) * exp(-tro / mo) - mo\n",
    "fmo = np.vectorize(fmo1)\n",
    "fms = np.vectorize(fms1)"
   ]
  },
  {
   "cell_type": "code",
   "execution_count": 8,
   "metadata": {},
   "outputs": [
    {
     "data": {
      "text/plain": [
       "<matplotlib.legend.Legend at 0x8bdb320>"
      ]
     },
     "execution_count": 8,
     "metadata": {},
     "output_type": "execute_result"
    },
    {
     "data": {
      "image/png": "[encoded data removed]",
      "text/plain": [
       "<Figure size 432x288 with 1 Axes>"
      ]
     },
     "metadata": {},
     "output_type": "display_data"
    }
   ],
   "source": [
    "# Plot mo(ms) and ms(mo)\n",
    "msseq = np.arange(0.02, 1, 0.01)\n",
    "plt.plot(msseq, fmo(msseq, tro, trs, emo, ems), '-r', label='mo(ms)')\n",
    "moseq = np.arange(0.02, 0.4, 0.01)\n",
    "plt.plot(fms(moseq, tro, trs, emo, ems), moseq, '-b', label='ms(mo)')\n",
    "plt.xlabel('mean shut')\n",
    "plt.ylabel('mean open')\n",
    "plt.legend(loc=2)"
   ]
  },
  {
   "cell_type": "markdown",
   "metadata": {
    "collapsed": true
   },
   "source": [
    "Both of equations 121 and 122 must be satisfied, so the solution is the point where the two graphs cross. The two crossing points correspond to the two solutions found numerically above."
   ]
  },
  {
   "cell_type": "markdown",
   "metadata": {},
   "source": [
    "### Another graphical example with more realistic numbers"
   ]
  },
  {
   "cell_type": "code",
   "execution_count": 9,
   "metadata": {},
   "outputs": [],
   "source": [
    "# Time in microseconds\n",
    "tro, trs = 30, 30\n",
    "emo, ems = 20000, 40"
   ]
  },
  {
   "cell_type": "code",
   "execution_count": 10,
   "metadata": {},
   "outputs": [
    {
     "data": {
      "text/plain": [
       "(0, 10)"
      ]
     },
     "execution_count": 10,
     "metadata": {},
     "output_type": "execute_result"
    },
    {
     "data": {
      "image/png": "[encoded data removed]",
      "text/plain": [
       "<Figure size 432x288 with 1 Axes>"
      ]
     },
     "metadata": {},
     "output_type": "display_data"
    }
   ],
   "source": [
    "# Plot mo(ms) and ms(mo)\n",
    "msseq = np.arange(0.02, 10, 0.01)\n",
    "plt.plot(msseq, fmo(msseq, tro, trs, emo, ems), '-r', label='mo(ms)')\n",
    "moseq = np.arange(0.1, 1000, 0.01)\n",
    "plt.plot(fms(moseq, tro, trs, emo, ems), moseq, '-b', label='ms(mo)')\n",
    "plt.xlabel('mean shut')\n",
    "plt.ylabel('mean open')\n",
    "plt.legend(loc=2)\n",
    "plt.xlim([0, 10])"
   ]
  },
  {
   "cell_type": "markdown",
   "metadata": {},
   "source": [
    "Try the same example but with $^em_s$ reduced by 1 microsecond!"
   ]
  },
  {
   "cell_type": "code",
   "execution_count": 11,
   "metadata": {},
   "outputs": [
    {
     "data": {
      "text/plain": [
       "(0, 10)"
      ]
     },
     "execution_count": 11,
     "metadata": {},
     "output_type": "execute_result"
    },
    {
     "data": {
      "image/png": "[encoded data removed]",
      "text/plain": [
       "<Figure size 432x288 with 1 Axes>"
      ]
     },
     "metadata": {},
     "output_type": "display_data"
    }
   ],
   "source": [
    "ems = 39\n",
    "# Plot mo(ms) and ms(mo)\n",
    "msseq = np.arange(0.02, 10, 0.01)\n",
    "plt.plot(msseq, fmo(msseq, tro, trs, emo, ems), '-r', label='mo(ms)')\n",
    "moseq = np.arange(0.1, 1000, 0.01)\n",
    "plt.plot(fms(moseq, tro, trs, emo, ems), moseq, '-b', label='ms(mo)')\n",
    "plt.xlabel('mean shut')\n",
    "plt.ylabel('mean open')\n",
    "plt.legend(loc=2)\n",
    "plt.xlim([0, 10])"
   ]
  },
  {
   "cell_type": "markdown",
   "metadata": {},
   "source": [
    "$^em_s = 40 \\mu s$ gives two solutions, but $^em_s = 39 \\mu s$ gives no solutions!"
   ]
  },
  {
   "cell_type": "code",
   "execution_count": null,
   "metadata": {},
   "outputs": [],
   "source": []
  }
 ],
 "metadata": {
  "kernelspec": {
   "display_name": "Python 3",
   "language": "python",
   "name": "python3"
  },
  "language_info": {
   "codemirror_mode": {
    "name": "ipython",
    "version": 3
   },
   "file_extension": ".py",
   "mimetype": "text/x-python",
   "name": "python",
   "nbconvert_exporter": "python",
   "pygments_lexer": "ipython3",
   "version": "3.6.5"
  }
 },
 "nbformat": 4,
 "nbformat_minor": 1
}
