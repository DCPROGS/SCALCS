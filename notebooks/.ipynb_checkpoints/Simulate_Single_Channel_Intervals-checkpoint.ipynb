{
 "cells": [
  {
   "cell_type": "markdown",
   "metadata": {},
   "source": [
    "# Simulate single-channel open and shut intervals"
   ]
  },
  {
   "cell_type": "code",
   "execution_count": 1,
   "metadata": {},
   "outputs": [],
   "source": [
    "%matplotlib inline\n",
    "import matplotlib.pyplot as plt"
   ]
  },
  {
   "cell_type": "code",
   "execution_count": 2,
   "metadata": {},
   "outputs": [],
   "source": [
    "import sys, math, random\n",
    "import numpy as np"
   ]
  },
  {
   "cell_type": "code",
   "execution_count": 3,
   "metadata": {},
   "outputs": [],
   "source": [
    "# Import SCALCS stuff\n",
    "from scalcs.samples import samples\n",
    "from scalcs import scsim"
   ]
  },
  {
   "cell_type": "markdown",
   "metadata": {},
   "source": [
    "### Load mechanism"
   ]
  },
  {
   "cell_type": "code",
   "execution_count": 4,
   "metadata": {},
   "outputs": [
    {
     "name": "stdout",
     "output_type": "stream",
     "text": [
      "\n",
      "class dcpyps.Mechanism\n",
      "Values of unit rates [1/sec]:\n",
      "0\tFrom AR  \tto AR*    \tbeta1   \t15.0\n",
      "1\tFrom A2R  \tto A2R*    \tbeta2   \t15000.0\n",
      "2\tFrom AR*  \tto AR    \talpha1   \t3000.0\n",
      "3\tFrom A2R*  \tto A2R    \talpha2   \t500.0\n",
      "4\tFrom AR  \tto R    \tk(-1)   \t2000.0\n",
      "5\tFrom A2R  \tto AR    \t2k(-2)   \t4000.0\n",
      "6\tFrom R  \tto AR    \t2k(+1)   \t100000000.0\n",
      "7\tFrom AR*  \tto A2R*    \tk*(+2)   \t500000000.0\n",
      "8\tFrom AR  \tto A2R    \tk(+2)   \t500000000.0\n",
      "9\tFrom A2R*  \tto AR*    \t2k*(-2)   \t0.66667\n",
      "\n",
      "Conductance of state AR* (pS)  =      60\n",
      "\n",
      "Conductance of state A2R* (pS)  =      60\n",
      "\n",
      "Number of open states = 2\n",
      "Number of short-lived shut states (within burst) = 2\n",
      "Number of long-lived shut states (between bursts) = 1\n",
      "Number of desensitised states = 0\n",
      "\n",
      "Number of cycles = 1\n",
      "Cycle 0 is formed of states: A2R*  AR*  AR  A2R  \n",
      "\tforward product = 1.500007500e+16\n",
      "\tbackward product = 1.500000000e+16"
     ]
    }
   ],
   "source": [
    "# LOAD DEMO MECHANISM (C&H82 numerical example).\n",
    "mec = samples.CH82()\n",
    "mec.printout(sys.stdout)"
   ]
  },
  {
   "cell_type": "code",
   "execution_count": 5,
   "metadata": {},
   "outputs": [],
   "source": [
    "# Enter:\n",
    "    # temporal resolution in seconds\n",
    "tr = 0.00002\n",
    "#tr = 0.000001\n",
    "    # critical time interval in seconds\n",
    "tc = 0.004\n",
    "    # concentration in Moles\n",
    "c = 100e-9"
   ]
  },
  {
   "cell_type": "code",
   "execution_count": 6,
   "metadata": {},
   "outputs": [],
   "source": [
    "# Get Q-matrix for given concentration\n",
    "mec.set_eff('c', c)"
   ]
  },
  {
   "cell_type": "code",
   "execution_count": 7,
   "metadata": {},
   "outputs": [
    {
     "name": "stdout",
     "output_type": "stream",
     "text": [
      "\n",
      "Transition probability:\n",
      "pi=\n",
      " [[0.         0.01639344 0.98360656 0.         0.        ]\n",
      " [0.00133156 0.         0.         0.99866844 0.        ]\n",
      " [0.00726392 0.         0.         0.02421308 0.968523  ]\n",
      " [0.         0.78947368 0.21052632 0.         0.        ]\n",
      " [0.         0.         1.         0.         0.        ]]\n",
      "\n",
      "Cummulative transition probability:\n",
      "picum=\n",
      " [[0.         0.01639344 1.         1.         1.        ]\n",
      " [0.00133156 0.00133156 0.00133156 1.         1.        ]\n",
      " [0.00726392 0.00726392 0.00726392 0.031477   1.        ]\n",
      " [0.         0.78947368 1.         1.         1.        ]\n",
      " [0.         0.         1.         1.         1.        ]]\n",
      "\n",
      "Mean lifetime in each state (ms):\n",
      "tmean=\n",
      " [3.27868852e-01 1.99733687e+00 4.84261501e-01 5.26315789e-02\n",
      " 1.00000000e+02]\n"
     ]
    }
   ],
   "source": [
    "pi = scsim.transition_probability(mec.Q)\n",
    "print('\\nTransition probability:\\npi=\\n', pi)\n",
    "picum = np.cumsum(pi,axis=1)\n",
    "print('\\nCummulative transition probability:\\npicum=\\n', picum)\n",
    "# calculate mean lifetimes\n",
    "tmean = -1 / mec.Q.diagonal() # in s\n",
    "print('\\nMean lifetime in each state (ms):\\ntmean=\\n', tmean*1000)"
   ]
  },
  {
   "cell_type": "markdown",
   "metadata": {},
   "source": [
    "### Simulate intervals"
   ]
  },
  {
   "cell_type": "code",
   "execution_count": 8,
   "metadata": {},
   "outputs": [],
   "source": [
    "# Enter simulation parameters:\n",
    "    # Number of intervals to be simulated\n",
    "nintmax = 15000\n",
    "    # open channel amplitude in picoAmpers\n",
    "opamp = 5\n",
    "    # initial state\n",
    "inst = mec.k -1"
   ]
  },
  {
   "cell_type": "code",
   "execution_count": 9,
   "metadata": {},
   "outputs": [],
   "source": [
    "# Initialise simulation\n",
    "    # interval and transition counters\n",
    "nint, ntrns = 0, 0 \n",
    "    # initial state\n",
    "inst = mec.k - 1 # unliganded closed state\n",
    "    # amplitude of initial state\n",
    "a = opamp if inst < mec.kA else 0\n",
    "    # length of initial interval\n",
    "t = - tmean[inst] * math.log(random.random())\n",
    "    # lists to keep intervals and amplitudes\n",
    "tints, ampls = [t], [a]"
   ]
  },
  {
   "cell_type": "code",
   "execution_count": 10,
   "metadata": {},
   "outputs": [
    {
     "name": "stdout",
     "output_type": "stream",
     "text": [
      "\n",
      "\tStarting state  R \n",
      "\ttime interval (ms)= 304.49875202723223 \n",
      "\tamplitude (pA)= 0\n"
     ]
    }
   ],
   "source": [
    "print('\\n\\tStarting state ', mec.States[inst].name, \n",
    "      '\\n\\ttime interval (ms)=', t*1000, \n",
    "      '\\n\\tamplitude (pA)=', a)"
   ]
  },
  {
   "cell_type": "code",
   "execution_count": 11,
   "metadata": {},
   "outputs": [
    {
     "name": "stdout",
     "output_type": "stream",
     "text": [
      "Simulation finished.\n"
     ]
    }
   ],
   "source": [
    "# Run simulation:\n",
    "while nint < nintmax-1:\n",
    "\n",
    "    newst, t, a = scsim.next_state(inst, picum, tmean, mec.kA, opamp)\n",
    "    ntrns += 1\n",
    "    if t < tr:\n",
    "        tints[-1] += t\n",
    "        a = ampls[-1]\n",
    "    else:\n",
    "        if ((a != 0 and ampls[-1] != 0) or (a == 0 and ampls[-1] == 0)):\n",
    "            tints[-1] += t\n",
    "        else:\n",
    "            tints.append(t)\n",
    "            ampls.append(a)\n",
    "            nint += 1\n",
    "    inst = newst\n",
    "flags = np.zeros((len(tints)), dtype='b')\n",
    "print('Simulation finished.')"
   ]
  },
  {
   "cell_type": "code",
   "execution_count": 12,
   "metadata": {},
   "outputs": [
    {
     "name": "stdout",
     "output_type": "stream",
     "text": [
      "\n",
      "\t Number of calculated intervals= 15000\n",
      "\n",
      "\t Number of transitions= 219201\n"
     ]
    }
   ],
   "source": [
    "print ('\\n\\t Number of calculated intervals=', len(tints))\n",
    "print ('\\n\\t Number of transitions=', ntrns)"
   ]
  },
  {
   "cell_type": "code",
   "execution_count": null,
   "metadata": {},
   "outputs": [],
   "source": []
  }
 ],
 "metadata": {
  "kernelspec": {
   "display_name": "Python 3",
   "language": "python",
   "name": "python3"
  },
  "language_info": {
   "codemirror_mode": {
    "name": "ipython",
    "version": 3
   },
   "file_extension": ".py",
   "mimetype": "text/x-python",
   "name": "python",
   "nbconvert_exporter": "python",
   "pygments_lexer": "ipython3",
   "version": "3.6.5"
  }
 },
 "nbformat": 4,
 "nbformat_minor": 1
}
