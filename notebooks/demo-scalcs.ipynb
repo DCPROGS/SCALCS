{
 "cells": [
  {
   "cell_type": "code",
   "execution_count": 1,
   "metadata": {
    "collapsed": true
   },
   "outputs": [],
   "source": [
    "%matplotlib inline\n",
    "import matplotlib.pyplot as plt"
   ]
  },
  {
   "cell_type": "code",
   "execution_count": 15,
   "metadata": {
    "collapsed": true
   },
   "outputs": [],
   "source": [
    "from dcpyps import dcio\n",
    "from dcpyps.samples import samples\n",
    "from dcpyps import version\n",
    "\n",
    "from scalcs import scalcslib as scl\n",
    "from scalcs import scplotlib as scpl\n",
    "from scalcs import popen\n",
    "from scalcs import scburst\n",
    "from scalcs import cjumps"
   ]
  },
  {
   "cell_type": "code",
   "execution_count": 3,
   "metadata": {
    "collapsed": true
   },
   "outputs": [],
   "source": [
    "demomec = samples.CH82()\n",
    "tres = 0.0001  # resolution in seconds\n",
    "demomec.fastBlk = False\n",
    "demomec.KBlk = 0.01\n",
    "conc = 100e-9    # 100 nM"
   ]
  },
  {
   "cell_type": "code",
   "execution_count": 4,
   "metadata": {
    "collapsed": true
   },
   "outputs": [],
   "source": [
    "demomec.set_eff('c', conc)"
   ]
  },
  {
   "cell_type": "code",
   "execution_count": 5,
   "metadata": {
    "collapsed": false,
    "scrolled": false
   },
   "outputs": [
    {
     "name": "stdout",
     "output_type": "stream",
     "text": [
      "\n",
      "\n",
      "\n",
      "*******************************************\n",
      "\n",
      "Open\tEquilibrium\tMean life\tMean latency (ms)\n",
      "state\toccupancy\t(ms)\tto next shutting\n",
      "\t\t\tgiven start in this state\n",
      "Subset A \t0.0018869\t1.8765\n",
      "1\t2.4827e-05\t0.32787\t0.36062\n",
      "2\t0.001862\t1.9973\t1.9978\n",
      "\n",
      "Shut\tEquilibrium\tMean life\tMean latency (ms)\n",
      "state\toccupancy\t(ms)\tto next opening\n",
      "\t\t\tgiven start in this state\n",
      "Subset B \t0.0050275\t0.4597\n",
      "3\t0.0049654\t0.48426\t3689.9\n",
      "4\t6.2068e-05\t0.052632\t776.87\n",
      "\n",
      "Subset C \t0.99309\t100\n",
      "5\t0.99309\t100\t3789.9\n",
      "\n",
      "\n",
      "Initial vector for HJC openings phiOp =\n",
      "\t0.15397\t0.84603\n",
      "Initial vector for ideal openings phiOp =\n",
      "\t0.074074\t0.92593\n",
      "Initial vector for HJC shuttings phiSh =\n",
      "\t0.53037\t0.38612\t0.083515\n",
      "Initial vector for ideal shuttings phiSh =\n",
      "\t0.074074\t0.92593\t0\n",
      "\n",
      "\n",
      "*******************************************\n",
      "IDEAL OPEN TIME DISTRIBUTION\n",
      "term\tw\trate (1/sec)\ttau (ms)\tarea (%)\n",
      "1\t464.41\t500.65\t1.9974\t92.762\n",
      "2\t220.77\t3050\t0.32787\t7.2384\n",
      "Mean (ms) =\t 1.8765\tSD =\t 1.9738\tSD/mean =\t 1.0518\n",
      "\n",
      "ASYMPTOTIC OPEN TIME DISTRIBUTION\n",
      "term\ttau (ms)\tarea (%)\trate const (1/sec)\n",
      "1\t0.32838\t15.075\t3045.3\n",
      "2\t6.1376\t84.92\t162.93\n",
      "Areas for asymptotic pdf renormalised for t=0 to    infinity (and sum=1), so areas can be compared with ideal pdf.\n",
      "1\t19.147\n",
      "2\t80.853\n",
      "Mean open time (ms) = 5.5616\n",
      "\n",
      "EXACT OPEN TIME DISTRIBUTION\n",
      "eigen\tg00(m)\tg10(m)\tg11(m)\n",
      "2.9886e-14\t0.37983\t0.75378\t0.14427\n",
      "101.82\t137.63\t-0.30035\t8225.8\n",
      "2022.1\t15.083\t10.813\t481.18\n",
      "3093.5\t443.28\t-11.664\t-15090\n",
      "19408\t2.8235\t0.39672\t-163.78\n",
      "\n",
      "\n",
      "*******************************************\n",
      "IDEAL SHUT TIME DISTRIBUTION\n",
      "term\tw\trate (1/sec)\ttau (ms)\tarea (%)\n",
      "1\t0.069126\t0.2639\t3789.4\t26.195\n",
      "2\t17.261\t2062.9\t0.48475\t0.8367\n",
      "3\t13873\t19012\t0.052599\t72.969\n",
      "Mean (ms) =\t 992.65\tSD =\t 2556.8\tSD/mean =\t 2.5758\n",
      "\n",
      "ASYMPTOTIC SHUT TIME DISTRIBUTION\n",
      "term\ttau (ms)\tarea (%)\trate const (1/sec)\n",
      "1\t0.058513\t28.582\t17090\n",
      "2\t0.48589\t1.6731\t2058.1\n",
      "3\t4105.7\t68.354\t0.24357\n",
      "Areas for asymptotic pdf renormalised for t=0 to    infinity (and sum=1), so areas can be compared with ideal pdf.\n",
      "1\t69.156\n",
      "2\t0.9004\n",
      "3\t29.944\n",
      "Mean shut time (ms) = 2806.725994\n",
      "\n",
      "EXACT SHUT TIME DISTRIBUTION\n",
      "eigen\tg00(m)\tg10(m)\tg11(m)\n",
      "2.9886e-14\t0.94082\t4.5779\t0.88514\n",
      "101.82\t117.82\t100.21\t43635\n",
      "2022.1\t24.896\t-5.4986\t718.07\n",
      "3093.5\t1.2884\t0.67155\t-39.744\n",
      "19408\t5370.2\t-99.962\t-1.9832e+06\n",
      "\n",
      "Probability of transitions regardless of time:\n",
      "[0\t0.01639\t0.9836\t0\t0\t]\n",
      "[0.001332\t0\t0\t0.9987\t0\t]\n",
      "[0.007264\t0\t0\t0.02421\t0.9685\t]\n",
      "[0\t0.7895\t0.2105\t0\t0\t]\n",
      "[0\t0\t1\t0\t0\t]\n",
      "\n",
      "Frequency of transitions (per second):\n",
      "[0\t0.001241\t0.07448\t0\t0\t]\n",
      "[0.001241\t0\t0\t0.931\t0\t]\n",
      "[0.07448\t0\t0\t0.2483\t9.931\t]\n",
      "[0\t0.931\t0.2483\t0\t0\t]\n",
      "[0\t0\t9.931\t0\t0\t]\n",
      "\n",
      "\n",
      "\n",
      "*******************************************\n",
      "CALCULATIONS BASED ON DIVISION INTO BURSTS BY tcrit- CRITICAL TIME.\n",
      "\n",
      "IDEAL SHUT TIME DISTRIBUTION\n",
      "term\tw\trate (1/sec)\ttau (ms)\tarea (%)\n",
      "1\t0.069126\t0.2639\t3789.4\t26.195\n",
      "2\t17.261\t2062.9\t0.48475\t0.8367\n",
      "3\t13873\t19012\t0.052599\t72.969\n",
      "Mean (ms) =\t 992.65\tSD =\t 2556.8\tSD/mean =\t 2.5758\n",
      "\n",
      "Critical time between components 1 and 2\n",
      "\n",
      "Equal % misclassified (DC criterion)\n",
      "tcrit = 0.23317 ms\n",
      "% misclassified: short = 1.1879; long = 1.1879\n",
      "# misclassified (out of 100): short = 0.86679; long = 0.3211\n",
      "Total # misclassified (out of 100) = 1.1879\n",
      "\n",
      "\n",
      "Equal # misclassified (Clapham & Neher criterion)\n",
      "tcrit = 0.27832 ms\n",
      "% misclassified: short = 0.50352; long = 1.3592\n",
      "# misclassified (out of 100): short = 0.36741; long = 0.36741\n",
      "Total # misclassified (out of 100) = 0.73482\n",
      "\n",
      "\n",
      "Minimum total # misclassified (Jackson et al criterion)tcrit = 0.39414 ms\n",
      "% misclassified: short = 0.055678; long = 1.7327\n",
      "# misclassified (out of 100): short = 0.040627; long = 0.46836\n",
      "Total # misclassified (out of 100) = 0.50899\n",
      "\n",
      "\n",
      "Critical time between components 2 and 3\n",
      "\n",
      "Equal % misclassified (DC criterion)\n",
      "tcrit = 1.5962 ms\n",
      "% misclassified: short = 0.042114; long = 0.042114\n",
      "# misclassified (out of 100): short = 0.031082; long = 0.011032\n",
      "Total # misclassified (out of 100) = 0.042114\n",
      "\n",
      "\n",
      "Equal # misclassified (Clapham & Neher criterion)\n",
      "tcrit = 1.9912 ms\n",
      "% misclassified: short = 0.018644; long = 0.052532\n",
      "# misclassified (out of 100): short = 0.013761; long = 0.013761\n",
      "Total # misclassified (out of 100) = 0.027521\n",
      "\n",
      "\n",
      "Minimum total # misclassified (Jackson et al criterion)tcrit = 2.6763 ms\n",
      "% misclassified: short = 0.0045369; long = 0.0706\n",
      "# misclassified (out of 100): short = 0.0033485; long = 0.018493\n",
      "Total # misclassified (out of 100) = 0.021842\n",
      "\n",
      "\n",
      "SUMMARY of tcrit values:\n",
      "Components  DC\tC&N\tJackson\n",
      "1 to 2 \t0.23317\t0.27832\t0.39414\n",
      "2 to 3 \t1.5962\t1.9912\t2.6763\n",
      "\n"
     ]
    }
   ],
   "source": [
    "#     OPEN TIME DISTRIBUTION\n",
    "#Calculating open and shut time distributions\n",
    "print(scl.printout_occupancies(demomec, tres))\n",
    "print(scl.printout_distributions(demomec, tres))\n",
    "print(scl.printout_tcrit(demomec))"
   ]
  },
  {
   "cell_type": "code",
   "execution_count": 6,
   "metadata": {
    "collapsed": false
   },
   "outputs": [
    {
     "data": {
      "text/plain": [
       "<matplotlib.text.Text at 0x1ae5cbdcef0>"
      ]
     },
     "execution_count": 6,
     "metadata": {},
     "output_type": "execute_result"
    },
    {
     "data": {
      "image/png": "[encoded data removed]",
      "text/plain": [
       "<matplotlib.figure.Figure at 0x1ae5a287080>"
      ]
     },
     "metadata": {},
     "output_type": "display_data"
    }
   ],
   "source": [
    "t, ipdf, epdf, apdf = scpl.open_time_pdf(demomec, tres)\n",
    "plt.semilogx(t, ipdf, 'r--', t, epdf, 'b-', t, apdf, 'g-')\n",
    "plt.ylabel('fopen(t)')\n",
    "plt.xlabel('Open time, ms')\n",
    "plt.title('The open time pdf')"
   ]
  },
  {
   "cell_type": "code",
   "execution_count": 7,
   "metadata": {
    "collapsed": false
   },
   "outputs": [
    {
     "data": {
      "text/plain": [
       "<matplotlib.text.Text at 0x1ae5d715a20>"
      ]
     },
     "execution_count": 7,
     "metadata": {},
     "output_type": "execute_result"
    },
    {
     "data": {
      "image/png": "[encoded data removed]",
      "text/plain": [
       "<matplotlib.figure.Figure at 0x1ae5d66e2b0>"
      ]
     },
     "metadata": {},
     "output_type": "display_data"
    }
   ],
   "source": [
    "#     SHUT TIME DISTRIBUTION\n",
    "t, ipdf, epdf, apdf = scpl.shut_time_pdf(demomec, tres)\n",
    "plt.semilogx(t, ipdf, 'r--', t, epdf, 'b-', t, apdf, 'g-')\n",
    "plt.ylabel('fshut(t)')\n",
    "plt.xlabel('Shut time, ms')\n",
    "plt.title('The shut time pdf')"
   ]
  },
  {
   "cell_type": "code",
   "execution_count": 8,
   "metadata": {
    "collapsed": true
   },
   "outputs": [],
   "source": [
    "demomec.set_eff('c', conc)"
   ]
  },
  {
   "cell_type": "code",
   "execution_count": 9,
   "metadata": {
    "collapsed": false
   },
   "outputs": [
    {
     "name": "stdout",
     "output_type": "stream",
     "text": [
      "Agonist concentration = 1.000000e-07 M\n",
      "\n",
      "*******************************************\n",
      "CALCULATED SINGLE CHANNEL BURST PDFS ETC....\n",
      "Initial vector for burst (phiB) = \n",
      "0.27536\t0.72464\t\n",
      "End vector for burst (endB) = \n",
      "0.9609\t0.20595\t\n",
      "\n",
      "Total burst length, unconditional pdf\n",
      "Fbst(t) =\n",
      "term\tw\trate (1/sec)\ttau (ms)\tarea (%)\n",
      "1\t1.4982\t19408\t0.051525\t0.0077195\n",
      "2\t773.53\t3093.3\t0.32328\t25.007\n",
      "3\t28.668\t2012.6\t0.49687\t1.4244\n",
      "4\t74.738\t101.6\t9.8424\t73.561\n",
      "Mean (ms) =\t 7.3281\tSD =\t 9.4276\tSD/mean =\t 1.2865\n",
      "Mean from direct matrix calc = 7.3281 millisec\n",
      "\n",
      "Burst length pdf for bursts with 2 or more openings.\n",
      "Fbst(bst>1) =\n",
      "term\tw\trate (1/sec)\ttau (ms)\tarea (%)\n",
      "1\t2.556\t19408\t0.051525\t0.01317\n",
      "2\t1319.7\t3093.3\t0.32328\t42.662\n",
      "3\t48.908\t2012.6\t0.49687\t2.4301\n",
      "4\t127.5\t101.6\t9.8424\t125.5\n",
      "5\t-1370\t3050\t0.32787\t-44.919\n",
      "6\t-128.57\t500.65\t1.9974\t-25.681\n",
      "Mean (ms) =\t 11.842\tSD =\t 10.044\tSD/mean =\t 0.84818\n",
      "\n",
      "Number (r) of openings / burst (unconditional)\n",
      "P(r) =\n",
      "term\tw\trho\tarea(%)\tNorm mean1\t0.26092\t0.007144\t26.279\t1.0072\n",
      "2\t0.15292\t0.79257\t73.721\t4.8208\n",
      "Mean number of openings per burst =\t 3.8186\n",
      "\tSD =\t 4.0495\tSD/mean =\t 1.0605\n",
      "Mean from direct matrix calc = 3.8186\n",
      "\n",
      "PDF of first opening in a burst with 2 or more openings\n",
      "f(open; r>1) =\n",
      "term\tw\trate (1/sec)\ttau (ms)\tarea (%)\n",
      "1\t33.681\t3050\t0.32787\t1.1043\n",
      "2\t495.12\t500.65\t1.9974\t98.896\n",
      "Mean (ms) =\t 1.979\tSD =\t 1.9943\tSD/mean =\t 1.0077\n",
      "\n",
      "PDF of total open time per bursts\n",
      "f(open tot) =\n",
      "term\tw\trate (1/sec)\ttau (ms)\tarea (%)\n",
      "1\t802.09\t3028.1\t0.33023\t26.488\n",
      "2\t76.346\t103.85\t9.6289\t73.512\n",
      "Mean (ms) =\t 7.1658\tSD =\t 9.2207\tSD/mean =\t 1.2868\n",
      "Mean from direct matrix calc = 7.1658 millisec\n",
      "\n",
      "PDF of total shut time per bursts for bursts with at least 2 openings\n",
      "f(gap tot) =\n",
      "term\tw\trate (1/sec)\ttau (ms)\tarea (%)\n",
      "1\t246.09\t1952.5\t0.51215\t12.604\n",
      "2\t3598.4\t4117.4\t0.24287\t87.396\n",
      "Mean (ms) =\t 0.27681\tSD =\t 0.3043\tSD/mean =\t 1.0993\n",
      "Mean of total shut time for all bursts = 0.16226 millisec\n",
      "\n",
      "No of gaps within burst per unit open time = 393.34 \n",
      "\n",
      "PDF of gaps inside bursts\n",
      "f(gap) =\n",
      "term\tw\trate (1/sec)\ttau (ms)\tarea (%)\n",
      "1\t23.475\t2053.2\t0.48705\t1.1433\n",
      "2\t18794\t19012\t0.052599\t98.857\n",
      "Mean (ms) =\t 0.057566\tSD =\t 0.087066\tSD/mean =\t 1.5125\n",
      "\n",
      "PDF of gaps between bursts\n",
      "f(gap) =\n",
      "term\tw\trate (1/sec)\ttau (ms)\tarea (%)\n",
      "1\t-66.168\t2053.2\t0.48705\t-3.2227\n",
      "2\t-52975\t19012\t0.052599\t-278.64\n",
      "3\t52975\t19012\t0.052599\t278.64\n",
      "4\t65.912\t2062.9\t0.48475\t3.1951\n",
      "5\t0.26397\t0.2639\t3789.4\t100.03\n",
      "Mean (ms) =\t 3790.4\tSD =\t 3789.4\tSD/mean =\t 0.99972\n",
      "Mean from direct matrix calc = 3790.4 millisec\n",
      "\n",
      "Popen WITHIN BURST = (open time/bst)/(bst length)        = 0.97786 \n",
      "Total Popen = (open time/bst)/(bst_length + mean gap between burst) = 0.0018869 \n",
      "\n"
     ]
    }
   ],
   "source": [
    "#Calculating burst properties\n",
    "print('Agonist concentration = %e M' %conc)\n",
    "print(scburst.printout_pdfs(demomec))"
   ]
  },
  {
   "cell_type": "code",
   "execution_count": 10,
   "metadata": {
    "collapsed": false
   },
   "outputs": [
    {
     "data": {
      "text/plain": [
       "<matplotlib.text.Text at 0x1ae5d8c6be0>"
      ]
     },
     "execution_count": 10,
     "metadata": {},
     "output_type": "execute_result"
    },
    {
     "data": {
      "image/png": "[encoded data removed]",
      "text/plain": [
       "<matplotlib.figure.Figure at 0x1ae5d7f8da0>"
      ]
     },
     "metadata": {},
     "output_type": "display_data"
    }
   ],
   "source": [
    "t, fbst = scpl.burst_length_pdf(demomec)\n",
    "plt.semilogx(t, fbst, 'b-')\n",
    "plt.ylabel('fbst(t)')\n",
    "plt.xlabel('burst length, ms')\n",
    "plt.title('The burst length pdf')"
   ]
  },
  {
   "cell_type": "code",
   "execution_count": 11,
   "metadata": {
    "collapsed": false
   },
   "outputs": [],
   "source": [
    "#Calculating Popen curve parameters"
   ]
  },
  {
   "cell_type": "code",
   "execution_count": 12,
   "metadata": {
    "collapsed": false
   },
   "outputs": [
    {
     "name": "stdout",
     "output_type": "stream",
     "text": [
      "\n",
      "*******************************************\n",
      "Popen CURVE\n",
      "\n",
      "HJC Popen curve:\n",
      "maxPopen = 0.96185;  EC50 = 2.3544 microM;  nH = 1.872\n",
      "Ideal Popen curve:\n",
      "maxPopen = 0.96774;  EC50 = 2.4032 microM;  nH = 1.892\n"
     ]
    },
    {
     "data": {
      "image/png": "[encoded data removed]",
      "text/plain": [
       "<matplotlib.figure.Figure at 0x1ae5d7ab6a0>"
      ]
     },
     "metadata": {},
     "output_type": "display_data"
    }
   ],
   "source": [
    "c, pe, pi = scpl.Popen(demomec, tres)\n",
    "plt.semilogx(c, pe, 'b-', c, pi, 'r--')\n",
    "plt.ylabel('Popen')\n",
    "plt.xlabel('Concentration, M')\n",
    "plt.title('Apparent and ideal Popen curves')\n",
    "print(popen.printout(demomec, tres))"
   ]
  },
  {
   "cell_type": "code",
   "execution_count": null,
   "metadata": {
    "collapsed": true
   },
   "outputs": [],
   "source": [
    "# Calculating concentration jump"
   ]
  },
  {
   "cell_type": "code",
   "execution_count": 13,
   "metadata": {
    "collapsed": true
   },
   "outputs": [],
   "source": [
    "# Here one can tweak the parameters of the jump.\n",
    "step_size = 8e-6 # The sample step. All time parameters in seconds\n",
    "pulse_centre = 10e-3\n",
    "rise_time = 250e-6 # 10-90% rise time for error functions\n",
    "pulse_width = 10e-3\n",
    "record_length = 50e-3\n",
    "peak_conc = 10e-6    # in molar\n",
    "baseline_conc = 0.0\n",
    "cjargs = (peak_conc, baseline_conc, pulse_centre, pulse_width,\n",
    "            rise_time, rise_time)"
   ]
  },
  {
   "cell_type": "code",
   "execution_count": 17,
   "metadata": {
    "collapsed": false
   },
   "outputs": [
    {
     "name": "stdout",
     "output_type": "stream",
     "text": [
      "\n",
      "Calculating jump with 250.000000 microsec rise...\n",
      "\n",
      "*******************************************\n",
      "CONCENTRATION JUMPS\n",
      "\n",
      "Equilibrium occupancies before t=0, at concentration = 0.0:\n",
      "p00(1) = -0\n",
      "p00(2) = -0\n",
      "p00(3) = -0\n",
      "p00(4) = -0\n",
      "p00(5) = 1\n",
      "\n",
      "Equilibrium occupancies at maximum concentration = 0.01 mM:\n",
      "pinf(1) = 0.00011975\n",
      "pinf(2) = 0.8981\n",
      "pinf(3) = 0.023949\n",
      "pinf(4) = 0.029937\n",
      "pinf(5) = 0.047898\n",
      "\n",
      "Occupancies at the end of 10 ms pulse:\n",
      "pt(1) = 0.00012\n",
      "pt(2) = 0.89679\n",
      "pt(3) = 0.024133\n",
      "pt(4) = 0.029951\n",
      "pt(5) = 0.049008\n",
      "\n",
      "ON-RELAXATION for ideal step:\n",
      "Time course for current\n",
      "\n",
      "Comp\tEigen\t\tTau (ms)\n",
      "1\t-20828\t\t0.048012\t\n",
      "2\t-8017.9\t\t0.12472\t\n",
      "3\t-6001.6\t\t0.16662\t\n",
      "4\t-668.16\t\t1.4966\t\n",
      "\n",
      "Ampl.(t=0,pA)\tRel.ampl.\t\tArea(pC)\n",
      "0.028943\t\t-0.011554\t\t0.0013896\t\n",
      "-0.0028676\t\t0.0011447\t\t-0.00035766\t\n",
      "-0.37551\t\t0.1499\t\t-0.062568\t\n",
      "2.5052\t\t-1\t\t3.7493\t\n",
      "\n",
      "Weighted On Tau (ms) = 1.4721\n",
      "\n",
      "Total current at t=0 (pA) = 4.4409e-16\n",
      "Total current at equilibrium (pA) = -2.1557\n",
      "Total area (pC) = 0.0036878\n",
      "Current at the end of 10 ms pulse = -2.1526\n",
      "\n",
      "OFF-RELAXATION for ideal step:\n",
      "Time course for current\n",
      "\n",
      "Comp\tEigen\t\tTau (ms)\n",
      "1\t-19397\t\t0.051555\t\n",
      "2\t-3043.7\t\t0.32854\t\n",
      "3\t-1971.3\t\t0.50729\t\n",
      "4\t-103.76\t\t9.6374\t\n",
      "\n",
      "Ampl.(t=0,pA)\tRel.ampl.\t\tArea(pC)\n",
      "0.011606\t\t-0.0053607\t\t0.00059834\t\n",
      "-3.457e-05\t\t1.5968e-05\t\t-1.1358e-05\t\n",
      "0.00087801\t\t-0.00040554\t\t0.00044541\t\n",
      "-2.165\t\t1\t\t-20.865\t\n",
      "\n",
      "Weighted Off Tau (ms) = 9.6369\n",
      "\n",
      "Total current at t=0 (pA) = -2.1526\n",
      "Total current at equilibrium (pA) = -0\n",
      "Total area (pC) = -20.864\n",
      "\n"
     ]
    }
   ],
   "source": [
    "print ('\\nCalculating jump with {0:.6f} microsec rise...'.\n",
    "        format(rise_time/1e-6))\n",
    "print (cjumps.printout(demomec, peak_conc, pulse_width))"
   ]
  },
  {
   "cell_type": "code",
   "execution_count": 19,
   "metadata": {
    "collapsed": false
   },
   "outputs": [
    {
     "data": {
      "text/plain": [
       "<matplotlib.text.Text at 0x1ae5d92cba8>"
      ]
     },
     "execution_count": 19,
     "metadata": {},
     "output_type": "execute_result"
    },
    {
     "data": {
      "image/png": "[encoded data removed]",
      "text/plain": [
       "<matplotlib.figure.Figure at 0x1ae5ea7feb8>"
      ]
     },
     "metadata": {},
     "output_type": "display_data"
    }
   ],
   "source": [
    "t, c, Popen, P  = cjumps.solve_jump(demomec, record_length, step_size,\n",
    "        cjumps.pulse_erf, cjargs)\n",
    "maxP = max(Popen)\n",
    "maxC = max(c)\n",
    "c1 = (c / maxC) * 0.2 * maxP + 1.02 * maxP\n",
    "\n",
    "plt.plot(t * 1000, Popen,'b-', t * 1000, c1, 'g-')\n",
    "plt.ylabel('Open probability')\n",
    "plt.xlabel('Time, ms')\n",
    "plt.title('Concentration jump')"
   ]
  },
  {
   "cell_type": "code",
   "execution_count": null,
   "metadata": {
    "collapsed": true
   },
   "outputs": [],
   "source": []
  }
 ],
 "metadata": {
  "kernelspec": {
   "display_name": "Python 3",
   "language": "python",
   "name": "python3"
  },
  "language_info": {
   "codemirror_mode": {
    "name": "ipython",
    "version": 3
   },
   "file_extension": ".py",
   "mimetype": "text/x-python",
   "name": "python",
   "nbconvert_exporter": "python",
   "pygments_lexer": "ipython3",
   "version": "3.6.0"
  }
 },
 "nbformat": 4,
 "nbformat_minor": 2
}
